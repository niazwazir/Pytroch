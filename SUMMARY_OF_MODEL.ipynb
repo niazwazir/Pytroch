{
  "nbformat": 4,
  "nbformat_minor": 0,
  "metadata": {
    "colab": {
      "name": "SUMMARY_OF_MODEL.ipynb",
      "provenance": []
    },
    "kernelspec": {
      "name": "python3",
      "display_name": "Python 3"
    },
    "accelerator": "GPU"
  },
  "cells": [
    {
      "cell_type": "code",
      "metadata": {
        "id": "uDyNYK7COZgf",
        "colab_type": "code",
        "colab": {}
      },
      "source": [
        "import torch\n",
        "from torch import nn\n",
        "from torchsummary import summary"
      ],
      "execution_count": 0,
      "outputs": []
    },
    {
      "cell_type": "code",
      "metadata": {
        "id": "oze-NWgCgz7E",
        "colab_type": "code",
        "colab": {}
      },
      "source": [
        "class FSRCNN(nn.Module):\n",
        "    def __init__(self, scale_factor =2, num_channels=1, d=64, s=12, m=4):\n",
        "        super(FSRCNN, self).__init__()\n",
        "        self.L1 = nn.Sequential(nn.Conv2d(num_channels, d, kernel_size=3, padding=3//2),nn.PReLU(d))\n",
        "        self.L2 = nn.Sequential(nn.Conv2d(d, s, kernel_size=3,padding=3//2), nn.PReLU(s))\n",
        "        self.L3 = nn.Sequential(nn.Conv2d(s, d, kernel_size=3,padding=3//2), nn.PReLU(d))\n",
        "        self.L4 = nn.ConvTranspose2d(d, num_channels, kernel_size=9, stride=scale_factor, padding=9//2,output_padding=scale_factor-1)\n",
        "      \n",
        "    def forward(self, x):\n",
        "        x = self.L1(x)\n",
        "        x = self.L2(x)\n",
        "        x = self.L3(x)\n",
        "        x = self.L4(x)\n",
        "        return x"
      ],
      "execution_count": 0,
      "outputs": []
    },
    {
      "cell_type": "code",
      "metadata": {
        "id": "iXF3iDfYNLCe",
        "colab_type": "code",
        "outputId": "34ecc989-01c2-4f87-b965-5776d837537b",
        "colab": {
          "base_uri": "https://localhost:8080/",
          "height": 381
        }
      },
      "source": [
        "device = torch.device(\"cuda\" if torch.cuda.is_available() else \"cpu\") # PyTorch v0.4.0\n",
        "model = FSRCNN().to(device)\n",
        "summary(model, (1, 64,64))"
      ],
      "execution_count": 0,
      "outputs": [
        {
          "output_type": "stream",
          "text": [
            "----------------------------------------------------------------\n",
            "        Layer (type)               Output Shape         Param #\n",
            "================================================================\n",
            "            Conv2d-1           [-1, 64, 64, 64]             640\n",
            "             PReLU-2           [-1, 64, 64, 64]              64\n",
            "            Conv2d-3           [-1, 12, 64, 64]           6,924\n",
            "             PReLU-4           [-1, 12, 64, 64]              12\n",
            "            Conv2d-5           [-1, 64, 64, 64]           6,976\n",
            "             PReLU-6           [-1, 64, 64, 64]              64\n",
            "   ConvTranspose2d-7          [-1, 1, 128, 128]           5,185\n",
            "================================================================\n",
            "Total params: 19,865\n",
            "Trainable params: 19,865\n",
            "Non-trainable params: 0\n",
            "----------------------------------------------------------------\n",
            "Input size (MB): 0.02\n",
            "Forward/backward pass size (MB): 8.88\n",
            "Params size (MB): 0.08\n",
            "Estimated Total Size (MB): 8.97\n",
            "----------------------------------------------------------------\n"
          ],
          "name": "stdout"
        }
      ]
    }
  ]
}