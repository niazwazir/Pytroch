{
  "nbformat": 4,
  "nbformat_minor": 0,
  "metadata": {
    "colab": {
      "name": "INCEPTION_SUMMARY.ipynb",
      "provenance": []
    },
    "kernelspec": {
      "name": "python3",
      "display_name": "Python 3"
    },
    "accelerator": "GPU"
  },
  "cells": [
    {
      "cell_type": "code",
      "metadata": {
        "id": "eIzr5ApArQXT",
        "colab_type": "code",
        "colab": {}
      },
      "source": [
        "import torch\n",
        "from torch import nn\n",
        "from torchsummary import summary"
      ],
      "execution_count": 0,
      "outputs": []
    },
    {
      "cell_type": "code",
      "metadata": {
        "id": "PfAkxBKRuLAp",
        "colab_type": "code",
        "colab": {}
      },
      "source": [
        "class BasicConv2d(nn.Module):\n",
        "\n",
        "    def __init__(self, in_planes, out_planes, kernel_size, stride, padding=0):\n",
        "        super(BasicConv2d, self).__init__()\n",
        "        self.conv = nn.Conv2d(in_planes, out_planes,\n",
        "                              kernel_size=kernel_size, stride=stride,\n",
        "                              padding=padding, bias=False) # verify bias false\n",
        "        self.bn = nn.BatchNorm2d(out_planes,\n",
        "                                 eps=0.001, # value found in tensorflow\n",
        "                                 momentum=0.1, # default pytorch value\n",
        "                                 affine=True)\n",
        "        self.relu = nn.ReLU(inplace=False)\n",
        "\n",
        "    def forward(self, x):\n",
        "        x = self.conv(x)\n",
        "        x = self.bn(x)\n",
        "        x = self.relu(x)\n",
        "        return x\n"
      ],
      "execution_count": 0,
      "outputs": []
    },
    {
      "cell_type": "code",
      "metadata": {
        "id": "ZE0GWkmv2O9r",
        "colab_type": "code",
        "colab": {}
      },
      "source": [
        "class InceptionA(nn.Module):\n",
        "\n",
        "    def __init__(self, in_channels=1):\n",
        "        super(InceptionA, self).__init__()\n",
        "        self.branch1x1 = BasicConv2d(in_channels, 64, kernel_size=1,stride=1) # 1\n",
        "\n",
        "        self.branch5x5_1 = BasicConv2d(in_channels, 48, kernel_size=1,stride=1)\n",
        "        self.branch5x5_2 = BasicConv2d(48, 64, kernel_size=5, padding=2,stride=1)\n",
        "\n",
        "        self.branch3x3dbl_1 = BasicConv2d(in_channels, 64, kernel_size=1,stride=1)\n",
        "        self.branch3x3dbl_2 = BasicConv2d(64, 96, kernel_size=3, padding=1,stride=1)\n",
        "        self.branch3x3dbl_3 = BasicConv2d(96, 96, kernel_size=3, padding=1,stride=1)\n",
        "\n",
        "        \n",
        "    def forward(self, x):\n",
        "        branch1x1 = self.branch1x1(x)\n",
        "\n",
        "        branch5x5 = self.branch5x5_1(x)\n",
        "        branch5x5 = self.branch5x5_2(branch5x5)\n",
        "\n",
        "        branch3x3dbl = self.branch3x3dbl_1(x)\n",
        "        branch3x3dbl = self.branch3x3dbl_2(branch3x3dbl)\n",
        "        branch3x3dbl = self.branch3x3dbl_3(branch3x3dbl)\n",
        "\n",
        "        \n",
        "        outputs = [branch1x1, branch5x5, branch3x3dbl]\n",
        "        return torch.cat(outputs, 1)"
      ],
      "execution_count": 0,
      "outputs": []
    },
    {
      "cell_type": "code",
      "metadata": {
        "id": "BciOZoLN2RaL",
        "colab_type": "code",
        "colab": {
          "base_uri": "https://localhost:8080/",
          "height": 660
        },
        "outputId": "fac61521-1b09-41e2-b132-a3953d638329"
      },
      "source": [
        "device = torch.device(\"cuda\" if torch.cuda.is_available() else \"cpu\") # PyTorch v0.4.0\n",
        "model = InceptionA().to(device)\n",
        "summary(model, (1, 192,192))"
      ],
      "execution_count": 8,
      "outputs": [
        {
          "output_type": "stream",
          "text": [
            "----------------------------------------------------------------\n",
            "        Layer (type)               Output Shape         Param #\n",
            "================================================================\n",
            "            Conv2d-1         [-1, 64, 192, 192]              64\n",
            "       BatchNorm2d-2         [-1, 64, 192, 192]             128\n",
            "              ReLU-3         [-1, 64, 192, 192]               0\n",
            "       BasicConv2d-4         [-1, 64, 192, 192]               0\n",
            "            Conv2d-5         [-1, 48, 192, 192]              48\n",
            "       BatchNorm2d-6         [-1, 48, 192, 192]              96\n",
            "              ReLU-7         [-1, 48, 192, 192]               0\n",
            "       BasicConv2d-8         [-1, 48, 192, 192]               0\n",
            "            Conv2d-9         [-1, 64, 192, 192]          76,800\n",
            "      BatchNorm2d-10         [-1, 64, 192, 192]             128\n",
            "             ReLU-11         [-1, 64, 192, 192]               0\n",
            "      BasicConv2d-12         [-1, 64, 192, 192]               0\n",
            "           Conv2d-13         [-1, 64, 192, 192]              64\n",
            "      BatchNorm2d-14         [-1, 64, 192, 192]             128\n",
            "             ReLU-15         [-1, 64, 192, 192]               0\n",
            "      BasicConv2d-16         [-1, 64, 192, 192]               0\n",
            "           Conv2d-17         [-1, 96, 192, 192]          55,296\n",
            "      BatchNorm2d-18         [-1, 96, 192, 192]             192\n",
            "             ReLU-19         [-1, 96, 192, 192]               0\n",
            "      BasicConv2d-20         [-1, 96, 192, 192]               0\n",
            "           Conv2d-21         [-1, 96, 192, 192]          82,944\n",
            "      BatchNorm2d-22         [-1, 96, 192, 192]             192\n",
            "             ReLU-23         [-1, 96, 192, 192]               0\n",
            "      BasicConv2d-24         [-1, 96, 192, 192]               0\n",
            "================================================================\n",
            "Total params: 216,080\n",
            "Trainable params: 216,080\n",
            "Non-trainable params: 0\n",
            "----------------------------------------------------------------\n",
            "Input size (MB): 0.14\n",
            "Forward/backward pass size (MB): 486.00\n",
            "Params size (MB): 0.82\n",
            "Estimated Total Size (MB): 486.96\n",
            "----------------------------------------------------------------\n"
          ],
          "name": "stdout"
        }
      ]
    },
    {
      "cell_type": "code",
      "metadata": {
        "id": "U35bEVqP3-Jb",
        "colab_type": "code",
        "colab": {}
      },
      "source": [
        "class InceptionB(nn.Module):\n",
        "\n",
        "    def __init__(self, in_channels=1):\n",
        "        super(InceptionB, self).__init__()\n",
        "        self.branch3x3 = BasicConv2d(in_channels, 384, kernel_size=3, stride=2)\n",
        "\n",
        "        self.branch3x3dbl_1 = BasicConv2d(in_channels, 64, kernel_size=1,stride=1)\n",
        "        self.branch3x3dbl_2 = BasicConv2d(64, 96, kernel_size=3, padding=1,stride=1)\n",
        "        self.branch3x3dbl_3 = BasicConv2d(96, 96, kernel_size=3, stride=2)\n",
        "\n",
        "    def forward(self, x):\n",
        "        branch3x3 = self.branch3x3(x)\n",
        "\n",
        "        branch3x3dbl = self.branch3x3dbl_1(x)\n",
        "        branch3x3dbl = self.branch3x3dbl_2(branch3x3dbl)\n",
        "        branch3x3dbl = self.branch3x3dbl_3(branch3x3dbl)\n",
        "\n",
        "        \n",
        "        outputs = [branch3x3, branch3x3dbl]\n",
        "        return torch.cat(outputs, 1)"
      ],
      "execution_count": 0,
      "outputs": []
    },
    {
      "cell_type": "code",
      "metadata": {
        "id": "GQRMQ5RC4FkN",
        "colab_type": "code",
        "colab": {
          "base_uri": "https://localhost:8080/",
          "height": 521
        },
        "outputId": "19b28e65-6462-47bd-d2b3-63d975f49454"
      },
      "source": [
        "device = torch.device(\"cuda\" if torch.cuda.is_available() else \"cpu\") # PyTorch v0.4.0\n",
        "model = InceptionB().to(device)\n",
        "summary(model, (1, 384,384))"
      ],
      "execution_count": 17,
      "outputs": [
        {
          "output_type": "stream",
          "text": [
            "----------------------------------------------------------------\n",
            "        Layer (type)               Output Shape         Param #\n",
            "================================================================\n",
            "            Conv2d-1        [-1, 384, 191, 191]           3,456\n",
            "       BatchNorm2d-2        [-1, 384, 191, 191]             768\n",
            "              ReLU-3        [-1, 384, 191, 191]               0\n",
            "       BasicConv2d-4        [-1, 384, 191, 191]               0\n",
            "            Conv2d-5         [-1, 64, 384, 384]              64\n",
            "       BatchNorm2d-6         [-1, 64, 384, 384]             128\n",
            "              ReLU-7         [-1, 64, 384, 384]               0\n",
            "       BasicConv2d-8         [-1, 64, 384, 384]               0\n",
            "            Conv2d-9         [-1, 96, 384, 384]          55,296\n",
            "      BatchNorm2d-10         [-1, 96, 384, 384]             192\n",
            "             ReLU-11         [-1, 96, 384, 384]               0\n",
            "      BasicConv2d-12         [-1, 96, 384, 384]               0\n",
            "           Conv2d-13         [-1, 96, 191, 191]          82,944\n",
            "      BatchNorm2d-14         [-1, 96, 191, 191]             192\n",
            "             ReLU-15         [-1, 96, 191, 191]               0\n",
            "      BasicConv2d-16         [-1, 96, 191, 191]               0\n",
            "================================================================\n",
            "Total params: 143,040\n",
            "Trainable params: 143,040\n",
            "Non-trainable params: 0\n",
            "----------------------------------------------------------------\n",
            "Input size (MB): 0.56\n",
            "Forward/backward pass size (MB): 1254.39\n",
            "Params size (MB): 0.55\n",
            "Estimated Total Size (MB): 1255.50\n",
            "----------------------------------------------------------------\n"
          ],
          "name": "stdout"
        }
      ]
    },
    {
      "cell_type": "code",
      "metadata": {
        "id": "fD8zsrmyseYb",
        "colab_type": "code",
        "colab": {}
      },
      "source": [
        "class InceptionC(nn.Module):\n",
        "\n",
        "    def __init__(self, in_channels=1 , channels_7x7 = 7):\n",
        "        super(InceptionC, self).__init__()\n",
        "        self.branch1x1 = BasicConv2d(in_channels, 192, kernel_size=1, stride =1)\n",
        "\n",
        "        c7 = channels_7x7\n",
        "        self.branch7x7_1 = BasicConv2d(in_channels, c7, kernel_size=1,stride=1)\n",
        "        self.branch7x7_2 = BasicConv2d(c7, c7, kernel_size=(1, 7), padding=(0, 3),stride=1)\n",
        "        self.branch7x7_3 = BasicConv2d(c7, 192, kernel_size=(7, 1), padding=(3, 0),stride=1)\n",
        "\n",
        "        self.branch7x7dbl_1 = BasicConv2d(in_channels, c7, kernel_size=1,stride=1)\n",
        "        self.branch7x7dbl_2 = BasicConv2d(c7, c7, kernel_size=(7, 1), padding=(3, 0),stride=1)\n",
        "        self.branch7x7dbl_3 = BasicConv2d(c7, c7, kernel_size=(1, 7), padding=(0, 3),stride=1)\n",
        "        self.branch7x7dbl_4 = BasicConv2d(c7, c7, kernel_size=(7, 1), padding=(3, 0),stride=1)\n",
        "        self.branch7x7dbl_5 = BasicConv2d(c7, 192, kernel_size=(1, 7), padding=(0, 3),stride=1)\n",
        "\n",
        "        self.branch_pool = BasicConv2d(in_channels, 192, kernel_size=1,stride=1)\n",
        "\n",
        "    def forward(self, x):\n",
        "        branch1x1 = self.branch1x1(x)\n",
        "\n",
        "        branch7x7 = self.branch7x7_1(x)\n",
        "        branch7x7 = self.branch7x7_2(branch7x7)\n",
        "        branch7x7 = self.branch7x7_3(branch7x7)\n",
        "\n",
        "        branch7x7dbl = self.branch7x7dbl_1(x)\n",
        "        branch7x7dbl = self.branch7x7dbl_2(branch7x7dbl)\n",
        "        branch7x7dbl = self.branch7x7dbl_3(branch7x7dbl)\n",
        "        branch7x7dbl = self.branch7x7dbl_4(branch7x7dbl)\n",
        "        branch7x7dbl = self.branch7x7dbl_5(branch7x7dbl)\n",
        "\n",
        "     \n",
        "\n",
        "        outputs = [branch1x1, branch7x7, branch7x7dbl]\n",
        "        return torch.cat(outputs, 1)"
      ],
      "execution_count": 0,
      "outputs": []
    },
    {
      "cell_type": "code",
      "metadata": {
        "id": "dIZbjG26tYKe",
        "colab_type": "code",
        "colab": {
          "base_uri": "https://localhost:8080/",
          "height": 868
        },
        "outputId": "bc9824b0-5bec-460d-e466-77c539df15b6"
      },
      "source": [
        "device = torch.device(\"cuda\" if torch.cuda.is_available() else \"cpu\") # PyTorch v0.4.0\n",
        "model = InceptionC().to(device)\n",
        "summary(model, (1, 192,192))"
      ],
      "execution_count": 32,
      "outputs": [
        {
          "output_type": "stream",
          "text": [
            "----------------------------------------------------------------\n",
            "        Layer (type)               Output Shape         Param #\n",
            "================================================================\n",
            "            Conv2d-1        [-1, 192, 192, 192]             192\n",
            "       BatchNorm2d-2        [-1, 192, 192, 192]             384\n",
            "              ReLU-3        [-1, 192, 192, 192]               0\n",
            "       BasicConv2d-4        [-1, 192, 192, 192]               0\n",
            "            Conv2d-5          [-1, 7, 192, 192]               7\n",
            "       BatchNorm2d-6          [-1, 7, 192, 192]              14\n",
            "              ReLU-7          [-1, 7, 192, 192]               0\n",
            "       BasicConv2d-8          [-1, 7, 192, 192]               0\n",
            "            Conv2d-9          [-1, 7, 192, 192]             343\n",
            "      BatchNorm2d-10          [-1, 7, 192, 192]              14\n",
            "             ReLU-11          [-1, 7, 192, 192]               0\n",
            "      BasicConv2d-12          [-1, 7, 192, 192]               0\n",
            "           Conv2d-13        [-1, 192, 192, 192]           9,408\n",
            "      BatchNorm2d-14        [-1, 192, 192, 192]             384\n",
            "             ReLU-15        [-1, 192, 192, 192]               0\n",
            "      BasicConv2d-16        [-1, 192, 192, 192]               0\n",
            "           Conv2d-17          [-1, 7, 192, 192]               7\n",
            "      BatchNorm2d-18          [-1, 7, 192, 192]              14\n",
            "             ReLU-19          [-1, 7, 192, 192]               0\n",
            "      BasicConv2d-20          [-1, 7, 192, 192]               0\n",
            "           Conv2d-21          [-1, 7, 192, 192]             343\n",
            "      BatchNorm2d-22          [-1, 7, 192, 192]              14\n",
            "             ReLU-23          [-1, 7, 192, 192]               0\n",
            "      BasicConv2d-24          [-1, 7, 192, 192]               0\n",
            "           Conv2d-25          [-1, 7, 192, 192]             343\n",
            "      BatchNorm2d-26          [-1, 7, 192, 192]              14\n",
            "             ReLU-27          [-1, 7, 192, 192]               0\n",
            "      BasicConv2d-28          [-1, 7, 192, 192]               0\n",
            "           Conv2d-29          [-1, 7, 192, 192]             343\n",
            "      BatchNorm2d-30          [-1, 7, 192, 192]              14\n",
            "             ReLU-31          [-1, 7, 192, 192]               0\n",
            "      BasicConv2d-32          [-1, 7, 192, 192]               0\n",
            "           Conv2d-33        [-1, 192, 192, 192]           9,408\n",
            "      BatchNorm2d-34        [-1, 192, 192, 192]             384\n",
            "             ReLU-35        [-1, 192, 192, 192]               0\n",
            "      BasicConv2d-36        [-1, 192, 192, 192]               0\n",
            "================================================================\n",
            "Total params: 21,630\n",
            "Trainable params: 21,630\n",
            "Non-trainable params: 0\n",
            "----------------------------------------------------------------\n",
            "Input size (MB): 0.14\n",
            "Forward/backward pass size (MB): 695.25\n",
            "Params size (MB): 0.08\n",
            "Estimated Total Size (MB): 695.47\n",
            "----------------------------------------------------------------\n"
          ],
          "name": "stdout"
        }
      ]
    },
    {
      "cell_type": "code",
      "metadata": {
        "id": "PAy4bVEmtnNn",
        "colab_type": "code",
        "colab": {}
      },
      "source": [
        "class InceptionD(nn.Module):\n",
        "\n",
        "    def __init__(self, in_channels=1):\n",
        "        super(InceptionD, self).__init__()\n",
        "        self.branch3x3_1 = BasicConv2d(in_channels, 192, kernel_size=1,stride=1)\n",
        "        self.branch3x3_2 = BasicConv2d(192, 320, kernel_size=3, stride=2)\n",
        "\n",
        "        self.branch7x7x3_1 = BasicConv2d(in_channels, 192, kernel_size=1,stride=1)\n",
        "        self.branch7x7x3_2 = BasicConv2d(192, 192, kernel_size=(1, 7), padding=(0, 3),stride=1)\n",
        "        self.branch7x7x3_3 = BasicConv2d(192, 192, kernel_size=(7, 1), padding=(3, 0),stride=1)\n",
        "        self.branch7x7x3_4 = BasicConv2d(192, 192, kernel_size=3, stride=2)\n",
        "\n",
        "    def forward(self, x):\n",
        "        branch3x3 = self.branch3x3_1(x)\n",
        "        branch3x3 = self.branch3x3_2(branch3x3)\n",
        "\n",
        "        branch7x7x3 = self.branch7x7x3_1(x)\n",
        "        branch7x7x3 = self.branch7x7x3_2(branch7x7x3)\n",
        "        branch7x7x3 = self.branch7x7x3_3(branch7x7x3)\n",
        "        branch7x7x3 = self.branch7x7x3_4(branch7x7x3)\n",
        "\n",
        "\n",
        "        outputs = [branch3x3, branch7x7x3]\n",
        "        return torch.cat(outputs, 1)"
      ],
      "execution_count": 0,
      "outputs": []
    },
    {
      "cell_type": "code",
      "metadata": {
        "id": "yI1Jc8Yx01GS",
        "colab_type": "code",
        "colab": {
          "base_uri": "https://localhost:8080/",
          "height": 660
        },
        "outputId": "b0144784-240e-4b91-fe9e-0597101caea6"
      },
      "source": [
        "device = torch.device(\"cuda\" if torch.cuda.is_available() else \"cpu\") # PyTorch v0.4.0\n",
        "model = InceptionD().to(device)\n",
        "summary(model, (1, 192,192))"
      ],
      "execution_count": 44,
      "outputs": [
        {
          "output_type": "stream",
          "text": [
            "----------------------------------------------------------------\n",
            "        Layer (type)               Output Shape         Param #\n",
            "================================================================\n",
            "            Conv2d-1        [-1, 192, 192, 192]             192\n",
            "       BatchNorm2d-2        [-1, 192, 192, 192]             384\n",
            "              ReLU-3        [-1, 192, 192, 192]               0\n",
            "       BasicConv2d-4        [-1, 192, 192, 192]               0\n",
            "            Conv2d-5          [-1, 320, 95, 95]         552,960\n",
            "       BatchNorm2d-6          [-1, 320, 95, 95]             640\n",
            "              ReLU-7          [-1, 320, 95, 95]               0\n",
            "       BasicConv2d-8          [-1, 320, 95, 95]               0\n",
            "            Conv2d-9        [-1, 192, 192, 192]             192\n",
            "      BatchNorm2d-10        [-1, 192, 192, 192]             384\n",
            "             ReLU-11        [-1, 192, 192, 192]               0\n",
            "      BasicConv2d-12        [-1, 192, 192, 192]               0\n",
            "           Conv2d-13        [-1, 192, 192, 192]         258,048\n",
            "      BatchNorm2d-14        [-1, 192, 192, 192]             384\n",
            "             ReLU-15        [-1, 192, 192, 192]               0\n",
            "      BasicConv2d-16        [-1, 192, 192, 192]               0\n",
            "           Conv2d-17        [-1, 192, 192, 192]         258,048\n",
            "      BatchNorm2d-18        [-1, 192, 192, 192]             384\n",
            "             ReLU-19        [-1, 192, 192, 192]               0\n",
            "      BasicConv2d-20        [-1, 192, 192, 192]               0\n",
            "           Conv2d-21          [-1, 192, 95, 95]         331,776\n",
            "      BatchNorm2d-22          [-1, 192, 95, 95]             384\n",
            "             ReLU-23          [-1, 192, 95, 95]               0\n",
            "      BasicConv2d-24          [-1, 192, 95, 95]               0\n",
            "================================================================\n",
            "Total params: 1,403,776\n",
            "Trainable params: 1,403,776\n",
            "Non-trainable params: 0\n",
            "----------------------------------------------------------------\n",
            "Input size (MB): 0.14\n",
            "Forward/backward pass size (MB): 1005.02\n",
            "Params size (MB): 5.35\n",
            "Estimated Total Size (MB): 1010.51\n",
            "----------------------------------------------------------------\n"
          ],
          "name": "stdout"
        }
      ]
    },
    {
      "cell_type": "code",
      "metadata": {
        "id": "P2kGUSoo06bJ",
        "colab_type": "code",
        "colab": {}
      },
      "source": [
        "class InceptionE(nn.Module):\n",
        "\n",
        "    def __init__(self, in_channels=1):\n",
        "        super(InceptionE, self).__init__()\n",
        "        self.branch1x1 = BasicConv2d(in_channels, 320, kernel_size=1,stride=1)\n",
        "\n",
        "        self.branch3x3_1 = BasicConv2d(in_channels, 384, kernel_size=1,stride=1)\n",
        "        self.branch3x3_2a = BasicConv2d(384, 384, kernel_size=(1, 3), padding=(0, 1),stride=1)\n",
        "        self.branch3x3_2b = BasicConv2d(384, 384, kernel_size=(3, 1), padding=(1, 0),stride=1)\n",
        "\n",
        "        self.branch3x3dbl_1 = BasicConv2d(in_channels, 448, kernel_size=1,stride=1)\n",
        "        self.branch3x3dbl_2 = BasicConv2d(448, 384, kernel_size=3, padding=1,stride=1)\n",
        "        self.branch3x3dbl_3a = BasicConv2d(384, 384, kernel_size=(1, 3), padding=(0, 1),stride=1)\n",
        "        self.branch3x3dbl_3b = BasicConv2d(384, 384, kernel_size=(3, 1), padding=(1, 0),stride=1)\n",
        "\n",
        "        self.branch_pool = BasicConv2d(in_channels, 192, kernel_size=1,stride=1)\n",
        "\n",
        "    def forward(self, x):\n",
        "        branch1x1 = self.branch1x1(x)\n",
        "\n",
        "        branch3x3 = self.branch3x3_1(x)\n",
        "        branch3x3 = [\n",
        "            self.branch3x3_2a(branch3x3),\n",
        "            self.branch3x3_2b(branch3x3),\n",
        "        ]\n",
        "        branch3x3 = torch.cat(branch3x3, 1)\n",
        "\n",
        "        branch3x3dbl = self.branch3x3dbl_1(x)\n",
        "        branch3x3dbl = self.branch3x3dbl_2(branch3x3dbl)\n",
        "        branch3x3dbl = [\n",
        "            self.branch3x3dbl_3a(branch3x3dbl),\n",
        "            self.branch3x3dbl_3b(branch3x3dbl),\n",
        "        ]\n",
        "        branch3x3dbl = torch.cat(branch3x3dbl, 1)\n",
        "\n",
        "        \n",
        "\n",
        "        outputs = [branch1x1, branch3x3, branch3x3dbl]\n",
        "        return torch.cat(outputs, 1)\n"
      ],
      "execution_count": 0,
      "outputs": []
    },
    {
      "cell_type": "code",
      "metadata": {
        "id": "LPD5PaPz4zJc",
        "colab_type": "code",
        "colab": {
          "base_uri": "https://localhost:8080/",
          "height": 799
        },
        "outputId": "648beab9-4950-41ef-b7e2-6dd0adfa1994"
      },
      "source": [
        "device = torch.device(\"cuda\" if torch.cuda.is_available() else \"cpu\") # PyTorch v0.4.0\n",
        "model = InceptionE().to(device)\n",
        "summary(model, (1, 192,192))"
      ],
      "execution_count": 29,
      "outputs": [
        {
          "output_type": "stream",
          "text": [
            "----------------------------------------------------------------\n",
            "        Layer (type)               Output Shape         Param #\n",
            "================================================================\n",
            "            Conv2d-1        [-1, 320, 192, 192]             320\n",
            "       BatchNorm2d-2        [-1, 320, 192, 192]             640\n",
            "              ReLU-3        [-1, 320, 192, 192]               0\n",
            "       BasicConv2d-4        [-1, 320, 192, 192]               0\n",
            "            Conv2d-5        [-1, 384, 192, 192]             384\n",
            "       BatchNorm2d-6        [-1, 384, 192, 192]             768\n",
            "              ReLU-7        [-1, 384, 192, 192]               0\n",
            "       BasicConv2d-8        [-1, 384, 192, 192]               0\n",
            "            Conv2d-9        [-1, 384, 192, 192]         442,368\n",
            "      BatchNorm2d-10        [-1, 384, 192, 192]             768\n",
            "             ReLU-11        [-1, 384, 192, 192]               0\n",
            "      BasicConv2d-12        [-1, 384, 192, 192]               0\n",
            "           Conv2d-13        [-1, 384, 192, 192]         442,368\n",
            "      BatchNorm2d-14        [-1, 384, 192, 192]             768\n",
            "             ReLU-15        [-1, 384, 192, 192]               0\n",
            "      BasicConv2d-16        [-1, 384, 192, 192]               0\n",
            "           Conv2d-17        [-1, 448, 192, 192]             448\n",
            "      BatchNorm2d-18        [-1, 448, 192, 192]             896\n",
            "             ReLU-19        [-1, 448, 192, 192]               0\n",
            "      BasicConv2d-20        [-1, 448, 192, 192]               0\n",
            "           Conv2d-21        [-1, 384, 192, 192]       1,548,288\n",
            "      BatchNorm2d-22        [-1, 384, 192, 192]             768\n",
            "             ReLU-23        [-1, 384, 192, 192]               0\n",
            "      BasicConv2d-24        [-1, 384, 192, 192]               0\n",
            "           Conv2d-25        [-1, 384, 192, 192]         442,368\n",
            "      BatchNorm2d-26        [-1, 384, 192, 192]             768\n",
            "             ReLU-27        [-1, 384, 192, 192]               0\n",
            "      BasicConv2d-28        [-1, 384, 192, 192]               0\n",
            "           Conv2d-29        [-1, 384, 192, 192]         442,368\n",
            "      BatchNorm2d-30        [-1, 384, 192, 192]             768\n",
            "             ReLU-31        [-1, 384, 192, 192]               0\n",
            "      BasicConv2d-32        [-1, 384, 192, 192]               0\n",
            "================================================================\n",
            "Total params: 3,325,056\n",
            "Trainable params: 3,325,056\n",
            "Non-trainable params: 0\n",
            "----------------------------------------------------------------\n",
            "Input size (MB): 0.14\n",
            "Forward/backward pass size (MB): 3456.00\n",
            "Params size (MB): 12.68\n",
            "Estimated Total Size (MB): 3468.82\n",
            "----------------------------------------------------------------\n"
          ],
          "name": "stdout"
        }
      ]
    },
    {
      "cell_type": "code",
      "metadata": {
        "id": "ylqiSD-o430D",
        "colab_type": "code",
        "colab": {}
      },
      "source": [
        ""
      ],
      "execution_count": 0,
      "outputs": []
    }
  ]
}