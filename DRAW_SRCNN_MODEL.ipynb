{
  "nbformat": 4,
  "nbformat_minor": 0,
  "metadata": {
    "kernelspec": {
      "name": "python3",
      "display_name": "Python 3"
    },
    "language_info": {
      "codemirror_mode": {
        "name": "ipython",
        "version": 3
      },
      "file_extension": ".py",
      "mimetype": "text/x-python",
      "name": "python",
      "nbconvert_exporter": "python",
      "pygments_lexer": "ipython3",
      "version": "3.5.6"
    },
    "colab": {
      "name": "DRAW_SRCNN_MODEL.ipynb",
      "provenance": []
    },
    "accelerator": "GPU"
  },
  "cells": [
    {
      "cell_type": "code",
      "metadata": {
        "id": "LdJP5BnBudKO",
        "colab_type": "code",
        "colab": {
          "base_uri": "https://localhost:8080/",
          "height": 121
        },
        "outputId": "1f35c34c-c369-4ffa-86b0-de7e9a4520f0"
      },
      "source": [
        "!pip uninstall scipy"
      ],
      "execution_count": 1,
      "outputs": [
        {
          "output_type": "stream",
          "text": [
            "Uninstalling scipy-1.3.1:\n",
            "  Would remove:\n",
            "    /usr/local/lib/python3.6/dist-packages/scipy-1.3.1.dist-info/*\n",
            "    /usr/local/lib/python3.6/dist-packages/scipy/*\n",
            "Proceed (y/n)? y\n",
            "  Successfully uninstalled scipy-1.3.1\n"
          ],
          "name": "stdout"
        }
      ]
    },
    {
      "cell_type": "code",
      "metadata": {
        "id": "Pild8_Q2uh6Z",
        "colab_type": "code",
        "colab": {
          "base_uri": "https://localhost:8080/",
          "height": 139
        },
        "outputId": "927c6ef5-14a2-4191-ceca-24773463c224"
      },
      "source": [
        "!pip install scipy==1.1.0"
      ],
      "execution_count": 2,
      "outputs": [
        {
          "output_type": "stream",
          "text": [
            "Collecting scipy==1.1.0\n",
            "\u001b[?25l  Downloading https://files.pythonhosted.org/packages/a8/0b/f163da98d3a01b3e0ef1cab8dd2123c34aee2bafbb1c5bffa354cc8a1730/scipy-1.1.0-cp36-cp36m-manylinux1_x86_64.whl (31.2MB)\n",
            "\u001b[K     |████████████████████████████████| 31.2MB 1.7MB/s \n",
            "\u001b[?25hRequirement already satisfied: numpy>=1.8.2 in /usr/local/lib/python3.6/dist-packages (from scipy==1.1.0) (1.17.3)\n",
            "\u001b[31mERROR: albumentations 0.1.12 has requirement imgaug<0.2.7,>=0.2.5, but you'll have imgaug 0.2.9 which is incompatible.\u001b[0m\n",
            "Installing collected packages: scipy\n",
            "Successfully installed scipy-1.1.0\n"
          ],
          "name": "stdout"
        }
      ]
    },
    {
      "cell_type": "code",
      "metadata": {
        "id": "eMyvIxzppoj4",
        "colab_type": "code",
        "colab": {
          "base_uri": "https://localhost:8080/",
          "height": 121
        },
        "outputId": "4abd9afa-0eec-4c7a-abde-3e221201d588"
      },
      "source": [
        "!git clone https://github.com/niazwazir/SRCNN_EXTENDED_PYTROCH.git"
      ],
      "execution_count": 3,
      "outputs": [
        {
          "output_type": "stream",
          "text": [
            "Cloning into 'SRCNN_EXTENDED_PYTROCH'...\n",
            "remote: Enumerating objects: 8, done.\u001b[K\n",
            "remote: Counting objects:  12% (1/8)\u001b[K\rremote: Counting objects:  25% (2/8)\u001b[K\rremote: Counting objects:  37% (3/8)\u001b[K\rremote: Counting objects:  50% (4/8)\u001b[K\rremote: Counting objects:  62% (5/8)\u001b[K\rremote: Counting objects:  75% (6/8)\u001b[K\rremote: Counting objects:  87% (7/8)\u001b[K\rremote: Counting objects: 100% (8/8)\u001b[K\rremote: Counting objects: 100% (8/8), done.\u001b[K\n",
            "remote: Compressing objects: 100% (8/8), done.\u001b[K\n",
            "remote: Total 8 (delta 0), reused 0 (delta 0), pack-reused 0\u001b[K\n",
            "Unpacking objects: 100% (8/8), done.\n"
          ],
          "name": "stdout"
        }
      ]
    },
    {
      "cell_type": "code",
      "metadata": {
        "id": "bpR6aXMPpook",
        "colab_type": "code",
        "colab": {
          "base_uri": "https://localhost:8080/",
          "height": 34
        },
        "outputId": "c2f4a90a-f16e-4ee0-f124-93dac2f8eb16"
      },
      "source": [
        "cd SRCNN_EXTENDED_PYTROCH"
      ],
      "execution_count": 4,
      "outputs": [
        {
          "output_type": "stream",
          "text": [
            "/content/SRCNN_EXTENDED_PYTROCH\n"
          ],
          "name": "stdout"
        }
      ]
    },
    {
      "cell_type": "code",
      "metadata": {
        "id": "BuVIqCELpos2",
        "colab_type": "code",
        "colab": {
          "base_uri": "https://localhost:8080/",
          "height": 34
        },
        "outputId": "c95db1be-ca01-4b0d-c0ba-29358552f3d4"
      },
      "source": [
        "!ls"
      ],
      "execution_count": 5,
      "outputs": [
        {
          "output_type": "stream",
          "text": [
            "data_loader.py\tmodel.py  solver.py  Test.zip  Train.zip  utils.py\n"
          ],
          "name": "stdout"
        }
      ]
    },
    {
      "cell_type": "code",
      "metadata": {
        "id": "0v1Oir76qBwe",
        "colab_type": "code",
        "colab": {
          "base_uri": "https://localhost:8080/",
          "height": 416
        },
        "outputId": "b95dfe44-5b2b-4afa-f389-e3d9f93f2321"
      },
      "source": [
        "!unzip Test.zip"
      ],
      "execution_count": 6,
      "outputs": [
        {
          "output_type": "stream",
          "text": [
            "Archive:  Test.zip\n",
            "   creating: Test/\n",
            "   creating: Test/Set14/\n",
            "  inflating: Test/Set14/baboon.bmp   \n",
            "  inflating: Test/Set14/barbara.bmp  \n",
            "  inflating: Test/Set14/bridge.bmp   \n",
            "  inflating: Test/Set14/coastguard.bmp  \n",
            "  inflating: Test/Set14/comic.bmp    \n",
            "  inflating: Test/Set14/face.bmp     \n",
            "  inflating: Test/Set14/flowers.bmp  \n",
            "  inflating: Test/Set14/foreman.bmp  \n",
            "  inflating: Test/Set14/lenna.bmp    \n",
            "  inflating: Test/Set14/man.bmp      \n",
            "  inflating: Test/Set14/monarch.bmp  \n",
            "  inflating: Test/Set14/pepper.bmp   \n",
            "  inflating: Test/Set14/ppt3.bmp     \n",
            "  inflating: Test/Set14/zebra.bmp    \n",
            "   creating: Test/Set5/\n",
            "  inflating: Test/Set5/baby_GT.bmp   \n",
            "  inflating: Test/Set5/bird_GT.bmp   \n",
            "  inflating: Test/Set5/butterfly_GT.bmp  \n",
            "  inflating: Test/Set5/head_GT.bmp   \n",
            "  inflating: Test/Set5/woman_GT.bmp  \n"
          ],
          "name": "stdout"
        }
      ]
    },
    {
      "cell_type": "code",
      "metadata": {
        "id": "4MFtmqSLqJlh",
        "colab_type": "code",
        "colab": {
          "base_uri": "https://localhost:8080/",
          "height": 1000
        },
        "outputId": "24ae4934-7eb8-4134-d7ad-4a3f8659c22c"
      },
      "source": [
        "!unzip Train.zip"
      ],
      "execution_count": 7,
      "outputs": [
        {
          "output_type": "stream",
          "text": [
            "Archive:  Train.zip\n",
            "   creating: Train/\n",
            "  inflating: Train/t1.bmp            \n",
            "  inflating: Train/t10.bmp           \n",
            "  inflating: Train/t11.bmp           \n",
            "  inflating: Train/t12.bmp           \n",
            "  inflating: Train/t13.bmp           \n",
            "  inflating: Train/t14.bmp           \n",
            "  inflating: Train/t15.bmp           \n",
            "  inflating: Train/t16.bmp           \n",
            "  inflating: Train/t17.bmp           \n",
            "  inflating: Train/t18.bmp           \n",
            "  inflating: Train/t19.bmp           \n",
            "  inflating: Train/t2.bmp            \n",
            "  inflating: Train/t20.bmp           \n",
            "  inflating: Train/t21.bmp           \n",
            "  inflating: Train/t22.bmp           \n",
            "  inflating: Train/t23.bmp           \n",
            "  inflating: Train/t24.bmp           \n",
            "  inflating: Train/t25.bmp           \n",
            "  inflating: Train/t26.bmp           \n",
            "  inflating: Train/t27.bmp           \n",
            "  inflating: Train/t28.bmp           \n",
            "  inflating: Train/t29.bmp           \n",
            "  inflating: Train/t3.bmp            \n",
            "  inflating: Train/t30.bmp           \n",
            "  inflating: Train/t31.bmp           \n",
            "  inflating: Train/t32.bmp           \n",
            "  inflating: Train/t33.bmp           \n",
            "  inflating: Train/t34.bmp           \n",
            "  inflating: Train/t35.bmp           \n",
            "  inflating: Train/t36.bmp           \n",
            "  inflating: Train/t37.bmp           \n",
            "  inflating: Train/t38.bmp           \n",
            "  inflating: Train/t39.bmp           \n",
            "  inflating: Train/t4.bmp            \n",
            "  inflating: Train/t40.bmp           \n",
            "  inflating: Train/t42.bmp           \n",
            "  inflating: Train/t43.bmp           \n",
            "  inflating: Train/t44.bmp           \n",
            "  inflating: Train/t45.bmp           \n",
            "  inflating: Train/t46.bmp           \n",
            "  inflating: Train/t47.bmp           \n",
            "  inflating: Train/t48.bmp           \n",
            "  inflating: Train/t49.bmp           \n",
            "  inflating: Train/t5.bmp            \n",
            "  inflating: Train/t50.bmp           \n",
            "  inflating: Train/t51.bmp           \n",
            "  inflating: Train/t52.bmp           \n",
            "  inflating: Train/t53.bmp           \n",
            "  inflating: Train/t54.bmp           \n",
            "  inflating: Train/t55.bmp           \n",
            "  inflating: Train/t56.bmp           \n",
            "  inflating: Train/t57.bmp           \n",
            "  inflating: Train/t58.bmp           \n",
            "  inflating: Train/t59.bmp           \n",
            "  inflating: Train/t6.bmp            \n",
            "  inflating: Train/t60.bmp           \n",
            "  inflating: Train/t61.bmp           \n",
            "  inflating: Train/t62.bmp           \n",
            "  inflating: Train/t63.bmp           \n",
            "  inflating: Train/t64.bmp           \n",
            "  inflating: Train/t65.bmp           \n",
            "  inflating: Train/t66.bmp           \n",
            "  inflating: Train/t7.bmp            \n",
            "  inflating: Train/t8.bmp            \n",
            "  inflating: Train/t9.bmp            \n",
            "  inflating: Train/tt1.bmp           \n",
            "  inflating: Train/tt10.bmp          \n",
            "  inflating: Train/tt12.bmp          \n",
            "  inflating: Train/tt13.bmp          \n",
            "  inflating: Train/tt14.bmp          \n",
            "  inflating: Train/tt15.bmp          \n",
            "  inflating: Train/tt16.bmp          \n",
            "  inflating: Train/tt17.bmp          \n",
            "  inflating: Train/tt18.bmp          \n",
            "  inflating: Train/tt19.bmp          \n",
            "  inflating: Train/tt2.bmp           \n",
            "  inflating: Train/tt20.bmp          \n",
            "  inflating: Train/tt21.bmp          \n",
            "  inflating: Train/tt22.bmp          \n",
            "  inflating: Train/tt23.bmp          \n",
            "  inflating: Train/tt24.bmp          \n",
            "  inflating: Train/tt25.bmp          \n",
            "  inflating: Train/tt26.bmp          \n",
            "  inflating: Train/tt27.bmp          \n",
            "  inflating: Train/tt3.bmp           \n",
            "  inflating: Train/tt4.bmp           \n",
            "  inflating: Train/tt5.bmp           \n",
            "  inflating: Train/tt6.bmp           \n",
            "  inflating: Train/tt7.bmp           \n",
            "  inflating: Train/tt8.bmp           \n",
            "  inflating: Train/tt9.bmp           \n"
          ],
          "name": "stdout"
        }
      ]
    },
    {
      "cell_type": "code",
      "metadata": {
        "id": "dIYSwR09p0qm",
        "colab_type": "code",
        "colab": {
          "base_uri": "https://localhost:8080/",
          "height": 243
        },
        "outputId": "2ef218ea-9ae4-42cd-9bd5-6a0e9bdde765"
      },
      "source": [
        "!pip install torchviz"
      ],
      "execution_count": 8,
      "outputs": [
        {
          "output_type": "stream",
          "text": [
            "Collecting torchviz\n",
            "\u001b[?25l  Downloading https://files.pythonhosted.org/packages/8f/8e/a9630c7786b846d08b47714dd363a051f5e37b4ea0e534460d8cdfc1644b/torchviz-0.0.1.tar.gz (41kB)\n",
            "\r\u001b[K     |████████                        | 10kB 18.4MB/s eta 0:00:01\r\u001b[K     |████████████████                | 20kB 4.7MB/s eta 0:00:01\r\u001b[K     |███████████████████████▉        | 30kB 6.7MB/s eta 0:00:01\r\u001b[K     |███████████████████████████████▉| 40kB 8.5MB/s eta 0:00:01\r\u001b[K     |████████████████████████████████| 51kB 4.9MB/s \n",
            "\u001b[?25hRequirement already satisfied: torch in /usr/local/lib/python3.6/dist-packages (from torchviz) (1.3.0+cu100)\n",
            "Requirement already satisfied: graphviz in /usr/local/lib/python3.6/dist-packages (from torchviz) (0.10.1)\n",
            "Requirement already satisfied: numpy in /usr/local/lib/python3.6/dist-packages (from torch->torchviz) (1.17.3)\n",
            "Building wheels for collected packages: torchviz\n",
            "  Building wheel for torchviz (setup.py) ... \u001b[?25l\u001b[?25hdone\n",
            "  Created wheel for torchviz: filename=torchviz-0.0.1-cp36-none-any.whl size=3520 sha256=71d25652f3b4ec1713bee4d484f22e98c2e939127dc236c8038eff9e212e7d7e\n",
            "  Stored in directory: /root/.cache/pip/wheels/2a/c2/c5/b8b4d0f7992c735f6db5bfa3c5f354cf36502037ca2b585667\n",
            "Successfully built torchviz\n",
            "Installing collected packages: torchviz\n",
            "Successfully installed torchviz-0.0.1\n"
          ],
          "name": "stdout"
        }
      ]
    },
    {
      "cell_type": "code",
      "metadata": {
        "id": "M3Ra-gD6pgfq",
        "colab_type": "code",
        "colab": {}
      },
      "source": [
        "import torch\n",
        "from torch import nn\n",
        "from solver import train\n",
        "import torch.optim as optim\n",
        "import torch.nn.functional as F\n",
        "from torch.autograd import Variable\n",
        "from data_loader import SRCNN_dataset\n",
        "from torchviz import make_dot, make_dot_from_trace"
      ],
      "execution_count": 0,
      "outputs": []
    },
    {
      "cell_type": "code",
      "metadata": {
        "id": "xUiDiGMDpfJA",
        "colab_type": "code",
        "colab": {}
      },
      "source": [
        "class SRCNN(nn.Module):\n",
        "    \"\"\"\n",
        "    Model for SRCNN\n",
        "\n",
        "    Input -> Conv1 -> Relu -> Conv2 -> Relu -> Conv3 -> MSE\n",
        "    \n",
        "    Args:\n",
        "        - C1, C2, C3: num output channels for Conv1, Conv2, and Conv3\n",
        "        - F1, F2, F3: filter size\n",
        "    \"\"\"\n",
        "    def __init__(self,\n",
        "                 C1=64, C2=32, C3=1,\n",
        "                 F1=9, F2=1, F3=5):\n",
        "        super(SRCNN, self).__init__()\n",
        "        self.conv1 = nn.Conv2d(1, 64, 9) # in, out, kernel\n",
        "        self.conv2 = nn.Conv2d(64, 16, 1)\n",
        "        self.conv3 = nn.Conv2d(16, 32, 1)\n",
        "        self.conv4 = nn.Conv2d(32, 32, 1)\n",
        "        self.conv5 = nn.Conv2d(32, 32, 1)\n",
        "        self.conv6 = nn.Conv2d(32, 1, 5)\n",
        "    \n",
        "    def forward(self, x):\n",
        "        x = F.relu(self.conv1(x))\n",
        "        x = F.relu(self.conv2(x))\n",
        "        x = F.relu(self.conv3(x))\n",
        "        x = F.relu(self.conv4(x))\n",
        "        x = F.relu(self.conv5(x))\n",
        "        x = self.conv6(x)\n",
        "        return x"
      ],
      "execution_count": 0,
      "outputs": []
    },
    {
      "cell_type": "code",
      "metadata": {
        "id": "4glVCrWVpfJF",
        "colab_type": "code",
        "colab": {
          "base_uri": "https://localhost:8080/",
          "height": 156
        },
        "outputId": "495e56f7-eb2f-4c5a-af28-6ad3811cc1cb"
      },
      "source": [
        "%matplotlib inline\n",
        "train_config = { 'dir_path': 'Train', 'scale': 3, 'is_gray': True, 'input_size': 33, 'label_size': 21, 'stride': 21 }\n",
        "test_config = train_config.copy()\n",
        "test_config['dir_path'] = 'Test/Set5'\n",
        "\n",
        "train_dataset = SRCNN_dataset(train_config)\n",
        "model = SRCNN()\n",
        "loss_fn = nn.MSELoss()\n",
        "optimizer = optim.Adam(model.parameters(), lr=1e-4)\n",
        "model = train(train_dataset, model, loss_fn, optimizer, num_epochs=1, batch_size=128)"
      ],
      "execution_count": 11,
      "outputs": [
        {
          "output_type": "stream",
          "text": [
            "Epoch 1, iter     0, loss 0.21200\n",
            "Epoch 1, iter    10, loss 0.17766\n",
            "Epoch 1, iter    20, loss 0.16217\n",
            "Epoch 1, iter    30, loss 0.11805\n",
            "Epoch 1, iter    40, loss 0.08590\n",
            "Epoch 1, iter    50, loss 0.08783\n",
            "Epoch 1, iter    60, loss 0.05621\n",
            "Epoch 1, iter    70, loss 0.04736\n"
          ],
          "name": "stdout"
        }
      ]
    },
    {
      "cell_type": "code",
      "metadata": {
        "id": "y578byEypfJL",
        "colab_type": "code",
        "colab": {
          "base_uri": "https://localhost:8080/",
          "height": 1000
        },
        "outputId": "e907844b-fb36-44e6-acbc-31437a8bb184"
      },
      "source": [
        "x = Variable(torch.randn(1,1,33,33))\n",
        "y = model(x)\n",
        "make_dot(y.mean(),params=dict(model.named_parameters()))"
      ],
      "execution_count": 12,
      "outputs": [
        {
          "output_type": "execute_result",
          "data": {
            "text/plain": [
              "<graphviz.dot.Digraph at 0x7f3629b9b470>"
            ],
            "image/svg+xml": "<?xml version=\"1.0\" encoding=\"UTF-8\" standalone=\"no\"?>\n<!DOCTYPE svg PUBLIC \"-//W3C//DTD SVG 1.1//EN\"\n \"http://www.w3.org/Graphics/SVG/1.1/DTD/svg11.dtd\">\n<!-- Generated by graphviz version 2.40.1 (20161225.0304)\n -->\n<!-- Title: %3 Pages: 1 -->\n<svg width=\"752pt\" height=\"791pt\"\n viewBox=\"0.00 0.00 751.50 791.00\" xmlns=\"http://www.w3.org/2000/svg\" xmlns:xlink=\"http://www.w3.org/1999/xlink\">\n<g id=\"graph0\" class=\"graph\" transform=\"scale(1 1) rotate(0) translate(4 787)\">\n<title>%3</title>\n<polygon fill=\"#ffffff\" stroke=\"transparent\" points=\"-4,4 -4,-787 747.5,-787 747.5,4 -4,4\"/>\n<!-- 139870604997688 -->\n<g id=\"node1\" class=\"node\">\n<title>139870604997688</title>\n<polygon fill=\"#caff70\" stroke=\"#000000\" points=\"665.5,-21 567.5,-21 567.5,0 665.5,0 665.5,-21\"/>\n<text text-anchor=\"middle\" x=\"616.5\" y=\"-7.4\" font-family=\"Times,serif\" font-size=\"12.00\" fill=\"#000000\">MeanBackward0</text>\n</g>\n<!-- 139870604997800 -->\n<g id=\"node2\" class=\"node\">\n<title>139870604997800</title>\n<polygon fill=\"#d3d3d3\" stroke=\"#000000\" points=\"697.5,-78 535.5,-78 535.5,-57 697.5,-57 697.5,-78\"/>\n<text text-anchor=\"middle\" x=\"616.5\" y=\"-64.4\" font-family=\"Times,serif\" font-size=\"12.00\" fill=\"#000000\">MkldnnConvolutionBackward</text>\n</g>\n<!-- 139870604997800&#45;&gt;139870604997688 -->\n<g id=\"edge1\" class=\"edge\">\n<title>139870604997800&#45;&gt;139870604997688</title>\n<path fill=\"none\" stroke=\"#000000\" d=\"M616.5,-56.7787C616.5,-49.6134 616.5,-39.9517 616.5,-31.3097\"/>\n<polygon fill=\"#000000\" stroke=\"#000000\" points=\"620.0001,-31.1732 616.5,-21.1732 613.0001,-31.1732 620.0001,-31.1732\"/>\n</g>\n<!-- 139870604997856 -->\n<g id=\"node3\" class=\"node\">\n<title>139870604997856</title>\n<polygon fill=\"#d3d3d3\" stroke=\"#000000\" points=\"557.5,-141.5 463.5,-141.5 463.5,-120.5 557.5,-120.5 557.5,-141.5\"/>\n<text text-anchor=\"middle\" x=\"510.5\" y=\"-127.9\" font-family=\"Times,serif\" font-size=\"12.00\" fill=\"#000000\">ReluBackward0</text>\n</g>\n<!-- 139870604997856&#45;&gt;139870604997800 -->\n<g id=\"edge2\" class=\"edge\">\n<title>139870604997856&#45;&gt;139870604997800</title>\n<path fill=\"none\" stroke=\"#000000\" d=\"M528.4815,-120.2281C545.4106,-110.0866 570.9677,-94.7764 590.1884,-83.2622\"/>\n<polygon fill=\"#000000\" stroke=\"#000000\" points=\"592.0043,-86.2544 598.7841,-78.1128 588.4069,-80.2494 592.0043,-86.2544\"/>\n</g>\n<!-- 139870604997912 -->\n<g id=\"node4\" class=\"node\">\n<title>139870604997912</title>\n<polygon fill=\"#d3d3d3\" stroke=\"#000000\" points=\"591.5,-205 429.5,-205 429.5,-184 591.5,-184 591.5,-205\"/>\n<text text-anchor=\"middle\" x=\"510.5\" y=\"-191.4\" font-family=\"Times,serif\" font-size=\"12.00\" fill=\"#000000\">MkldnnConvolutionBackward</text>\n</g>\n<!-- 139870604997912&#45;&gt;139870604997856 -->\n<g id=\"edge3\" class=\"edge\">\n<title>139870604997912&#45;&gt;139870604997856</title>\n<path fill=\"none\" stroke=\"#000000\" d=\"M510.5,-183.7281C510.5,-175.0091 510.5,-162.4699 510.5,-151.8068\"/>\n<polygon fill=\"#000000\" stroke=\"#000000\" points=\"514.0001,-151.6128 510.5,-141.6128 507.0001,-151.6129 514.0001,-151.6128\"/>\n</g>\n<!-- 139870604998248 -->\n<g id=\"node5\" class=\"node\">\n<title>139870604998248</title>\n<polygon fill=\"#d3d3d3\" stroke=\"#000000\" points=\"451.5,-268.5 357.5,-268.5 357.5,-247.5 451.5,-247.5 451.5,-268.5\"/>\n<text text-anchor=\"middle\" x=\"404.5\" y=\"-254.9\" font-family=\"Times,serif\" font-size=\"12.00\" fill=\"#000000\">ReluBackward0</text>\n</g>\n<!-- 139870604998248&#45;&gt;139870604997912 -->\n<g id=\"edge4\" class=\"edge\">\n<title>139870604998248&#45;&gt;139870604997912</title>\n<path fill=\"none\" stroke=\"#000000\" d=\"M422.4815,-247.2281C439.4106,-237.0866 464.9677,-221.7764 484.1884,-210.2622\"/>\n<polygon fill=\"#000000\" stroke=\"#000000\" points=\"486.0043,-213.2544 492.7841,-205.1128 482.4069,-207.2494 486.0043,-213.2544\"/>\n</g>\n<!-- 139870604998472 -->\n<g id=\"node6\" class=\"node\">\n<title>139870604998472</title>\n<polygon fill=\"#d3d3d3\" stroke=\"#000000\" points=\"485.5,-332 323.5,-332 323.5,-311 485.5,-311 485.5,-332\"/>\n<text text-anchor=\"middle\" x=\"404.5\" y=\"-318.4\" font-family=\"Times,serif\" font-size=\"12.00\" fill=\"#000000\">MkldnnConvolutionBackward</text>\n</g>\n<!-- 139870604998472&#45;&gt;139870604998248 -->\n<g id=\"edge5\" class=\"edge\">\n<title>139870604998472&#45;&gt;139870604998248</title>\n<path fill=\"none\" stroke=\"#000000\" d=\"M404.5,-310.7281C404.5,-302.0091 404.5,-289.4699 404.5,-278.8068\"/>\n<polygon fill=\"#000000\" stroke=\"#000000\" points=\"408.0001,-278.6128 404.5,-268.6128 401.0001,-278.6129 408.0001,-278.6128\"/>\n</g>\n<!-- 139870604998584 -->\n<g id=\"node7\" class=\"node\">\n<title>139870604998584</title>\n<polygon fill=\"#d3d3d3\" stroke=\"#000000\" points=\"345.5,-395.5 251.5,-395.5 251.5,-374.5 345.5,-374.5 345.5,-395.5\"/>\n<text text-anchor=\"middle\" x=\"298.5\" y=\"-381.9\" font-family=\"Times,serif\" font-size=\"12.00\" fill=\"#000000\">ReluBackward0</text>\n</g>\n<!-- 139870604998584&#45;&gt;139870604998472 -->\n<g id=\"edge6\" class=\"edge\">\n<title>139870604998584&#45;&gt;139870604998472</title>\n<path fill=\"none\" stroke=\"#000000\" d=\"M316.4815,-374.2281C333.4106,-364.0866 358.9677,-348.7764 378.1884,-337.2622\"/>\n<polygon fill=\"#000000\" stroke=\"#000000\" points=\"380.0043,-340.2544 386.7841,-332.1128 376.4069,-334.2494 380.0043,-340.2544\"/>\n</g>\n<!-- 139870604999088 -->\n<g id=\"node8\" class=\"node\">\n<title>139870604999088</title>\n<polygon fill=\"#d3d3d3\" stroke=\"#000000\" points=\"379.5,-459 217.5,-459 217.5,-438 379.5,-438 379.5,-459\"/>\n<text text-anchor=\"middle\" x=\"298.5\" y=\"-445.4\" font-family=\"Times,serif\" font-size=\"12.00\" fill=\"#000000\">MkldnnConvolutionBackward</text>\n</g>\n<!-- 139870604999088&#45;&gt;139870604998584 -->\n<g id=\"edge7\" class=\"edge\">\n<title>139870604999088&#45;&gt;139870604998584</title>\n<path fill=\"none\" stroke=\"#000000\" d=\"M298.5,-437.7281C298.5,-429.0091 298.5,-416.4699 298.5,-405.8068\"/>\n<polygon fill=\"#000000\" stroke=\"#000000\" points=\"302.0001,-405.6128 298.5,-395.6128 295.0001,-405.6129 302.0001,-405.6128\"/>\n</g>\n<!-- 139870604998920 -->\n<g id=\"node9\" class=\"node\">\n<title>139870604998920</title>\n<polygon fill=\"#d3d3d3\" stroke=\"#000000\" points=\"239.5,-522.5 145.5,-522.5 145.5,-501.5 239.5,-501.5 239.5,-522.5\"/>\n<text text-anchor=\"middle\" x=\"192.5\" y=\"-508.9\" font-family=\"Times,serif\" font-size=\"12.00\" fill=\"#000000\">ReluBackward0</text>\n</g>\n<!-- 139870604998920&#45;&gt;139870604999088 -->\n<g id=\"edge8\" class=\"edge\">\n<title>139870604998920&#45;&gt;139870604999088</title>\n<path fill=\"none\" stroke=\"#000000\" d=\"M210.4815,-501.2281C227.4106,-491.0866 252.9677,-475.7764 272.1884,-464.2622\"/>\n<polygon fill=\"#000000\" stroke=\"#000000\" points=\"274.0043,-467.2544 280.7841,-459.1128 270.4069,-461.2494 274.0043,-467.2544\"/>\n</g>\n<!-- 139870604998864 -->\n<g id=\"node10\" class=\"node\">\n<title>139870604998864</title>\n<polygon fill=\"#d3d3d3\" stroke=\"#000000\" points=\"273.5,-586 111.5,-586 111.5,-565 273.5,-565 273.5,-586\"/>\n<text text-anchor=\"middle\" x=\"192.5\" y=\"-572.4\" font-family=\"Times,serif\" font-size=\"12.00\" fill=\"#000000\">MkldnnConvolutionBackward</text>\n</g>\n<!-- 139870604998864&#45;&gt;139870604998920 -->\n<g id=\"edge9\" class=\"edge\">\n<title>139870604998864&#45;&gt;139870604998920</title>\n<path fill=\"none\" stroke=\"#000000\" d=\"M192.5,-564.7281C192.5,-556.0091 192.5,-543.4699 192.5,-532.8068\"/>\n<polygon fill=\"#000000\" stroke=\"#000000\" points=\"196.0001,-532.6128 192.5,-522.6128 189.0001,-532.6129 196.0001,-532.6128\"/>\n</g>\n<!-- 139870604999200 -->\n<g id=\"node11\" class=\"node\">\n<title>139870604999200</title>\n<polygon fill=\"#d3d3d3\" stroke=\"#000000\" points=\"133.5,-649.5 39.5,-649.5 39.5,-628.5 133.5,-628.5 133.5,-649.5\"/>\n<text text-anchor=\"middle\" x=\"86.5\" y=\"-635.9\" font-family=\"Times,serif\" font-size=\"12.00\" fill=\"#000000\">ReluBackward0</text>\n</g>\n<!-- 139870604999200&#45;&gt;139870604998864 -->\n<g id=\"edge10\" class=\"edge\">\n<title>139870604999200&#45;&gt;139870604998864</title>\n<path fill=\"none\" stroke=\"#000000\" d=\"M104.4815,-628.2281C121.4106,-618.0866 146.9677,-602.7764 166.1884,-591.2622\"/>\n<polygon fill=\"#000000\" stroke=\"#000000\" points=\"168.0043,-594.2544 174.7841,-586.1128 164.4069,-588.2494 168.0043,-594.2544\"/>\n</g>\n<!-- 139870604999760 -->\n<g id=\"node12\" class=\"node\">\n<title>139870604999760</title>\n<polygon fill=\"#d3d3d3\" stroke=\"#000000\" points=\"167.5,-713 5.5,-713 5.5,-692 167.5,-692 167.5,-713\"/>\n<text text-anchor=\"middle\" x=\"86.5\" y=\"-699.4\" font-family=\"Times,serif\" font-size=\"12.00\" fill=\"#000000\">MkldnnConvolutionBackward</text>\n</g>\n<!-- 139870604999760&#45;&gt;139870604999200 -->\n<g id=\"edge11\" class=\"edge\">\n<title>139870604999760&#45;&gt;139870604999200</title>\n<path fill=\"none\" stroke=\"#000000\" d=\"M86.5,-691.7281C86.5,-683.0091 86.5,-670.4699 86.5,-659.8068\"/>\n<polygon fill=\"#000000\" stroke=\"#000000\" points=\"90.0001,-659.6128 86.5,-649.6128 83.0001,-659.6129 90.0001,-659.6128\"/>\n</g>\n<!-- 139870604999424 -->\n<g id=\"node13\" class=\"node\">\n<title>139870604999424</title>\n<polygon fill=\"#add8e6\" stroke=\"#000000\" points=\"81,-783 0,-783 0,-749 81,-749 81,-783\"/>\n<text text-anchor=\"middle\" x=\"40.5\" y=\"-769.4\" font-family=\"Times,serif\" font-size=\"12.00\" fill=\"#000000\">conv1.weight</text>\n<text text-anchor=\"middle\" x=\"40.5\" y=\"-756.4\" font-family=\"Times,serif\" font-size=\"12.00\" fill=\"#000000\"> (64, 1, 9, 9)</text>\n</g>\n<!-- 139870604999424&#45;&gt;139870604999760 -->\n<g id=\"edge12\" class=\"edge\">\n<title>139870604999424&#45;&gt;139870604999760</title>\n<path fill=\"none\" stroke=\"#000000\" d=\"M52.8272,-748.9832C58.9107,-740.5853 66.2742,-730.4204 72.5621,-721.7404\"/>\n<polygon fill=\"#000000\" stroke=\"#000000\" points=\"75.5945,-723.5204 78.6266,-713.3687 69.9256,-719.4138 75.5945,-723.5204\"/>\n</g>\n<!-- 139870604999480 -->\n<g id=\"node14\" class=\"node\">\n<title>139870604999480</title>\n<polygon fill=\"#add8e6\" stroke=\"#000000\" points=\"167.5,-783 99.5,-783 99.5,-749 167.5,-749 167.5,-783\"/>\n<text text-anchor=\"middle\" x=\"133.5\" y=\"-769.4\" font-family=\"Times,serif\" font-size=\"12.00\" fill=\"#000000\">conv1.bias</text>\n<text text-anchor=\"middle\" x=\"133.5\" y=\"-756.4\" font-family=\"Times,serif\" font-size=\"12.00\" fill=\"#000000\"> (64)</text>\n</g>\n<!-- 139870604999480&#45;&gt;139870604999760 -->\n<g id=\"edge13\" class=\"edge\">\n<title>139870604999480&#45;&gt;139870604999760</title>\n<path fill=\"none\" stroke=\"#000000\" d=\"M120.9049,-748.9832C114.6237,-740.4969 107.0069,-730.2062 100.5384,-721.4668\"/>\n<polygon fill=\"#000000\" stroke=\"#000000\" points=\"103.3071,-719.3243 94.5445,-713.3687 97.6806,-723.4888 103.3071,-719.3243\"/>\n</g>\n<!-- 139870604999312 -->\n<g id=\"node15\" class=\"node\">\n<title>139870604999312</title>\n<polygon fill=\"#add8e6\" stroke=\"#000000\" points=\"233,-656 152,-656 152,-622 233,-622 233,-656\"/>\n<text text-anchor=\"middle\" x=\"192.5\" y=\"-642.4\" font-family=\"Times,serif\" font-size=\"12.00\" fill=\"#000000\">conv2.weight</text>\n<text text-anchor=\"middle\" x=\"192.5\" y=\"-629.4\" font-family=\"Times,serif\" font-size=\"12.00\" fill=\"#000000\"> (16, 64, 1, 1)</text>\n</g>\n<!-- 139870604999312&#45;&gt;139870604998864 -->\n<g id=\"edge14\" class=\"edge\">\n<title>139870604999312&#45;&gt;139870604998864</title>\n<path fill=\"none\" stroke=\"#000000\" d=\"M192.5,-621.9832C192.5,-614.1157 192.5,-604.6973 192.5,-596.4019\"/>\n<polygon fill=\"#000000\" stroke=\"#000000\" points=\"196.0001,-596.3686 192.5,-586.3687 189.0001,-596.3687 196.0001,-596.3686\"/>\n</g>\n<!-- 139870604999648 -->\n<g id=\"node16\" class=\"node\">\n<title>139870604999648</title>\n<polygon fill=\"#add8e6\" stroke=\"#000000\" points=\"319.5,-656 251.5,-656 251.5,-622 319.5,-622 319.5,-656\"/>\n<text text-anchor=\"middle\" x=\"285.5\" y=\"-642.4\" font-family=\"Times,serif\" font-size=\"12.00\" fill=\"#000000\">conv2.bias</text>\n<text text-anchor=\"middle\" x=\"285.5\" y=\"-629.4\" font-family=\"Times,serif\" font-size=\"12.00\" fill=\"#000000\"> (16)</text>\n</g>\n<!-- 139870604999648&#45;&gt;139870604998864 -->\n<g id=\"edge15\" class=\"edge\">\n<title>139870604999648&#45;&gt;139870604998864</title>\n<path fill=\"none\" stroke=\"#000000\" d=\"M260.5777,-621.9832C246.8955,-612.641 230.0107,-601.1122 216.4799,-591.8734\"/>\n<polygon fill=\"#000000\" stroke=\"#000000\" points=\"218.372,-588.9273 208.1398,-586.1788 214.4248,-594.7082 218.372,-588.9273\"/>\n</g>\n<!-- 139870604998976 -->\n<g id=\"node17\" class=\"node\">\n<title>139870604998976</title>\n<polygon fill=\"#add8e6\" stroke=\"#000000\" points=\"339,-529 258,-529 258,-495 339,-495 339,-529\"/>\n<text text-anchor=\"middle\" x=\"298.5\" y=\"-515.4\" font-family=\"Times,serif\" font-size=\"12.00\" fill=\"#000000\">conv3.weight</text>\n<text text-anchor=\"middle\" x=\"298.5\" y=\"-502.4\" font-family=\"Times,serif\" font-size=\"12.00\" fill=\"#000000\"> (32, 16, 1, 1)</text>\n</g>\n<!-- 139870604998976&#45;&gt;139870604999088 -->\n<g id=\"edge16\" class=\"edge\">\n<title>139870604998976&#45;&gt;139870604999088</title>\n<path fill=\"none\" stroke=\"#000000\" d=\"M298.5,-494.9832C298.5,-487.1157 298.5,-477.6973 298.5,-469.4019\"/>\n<polygon fill=\"#000000\" stroke=\"#000000\" points=\"302.0001,-469.3686 298.5,-459.3687 295.0001,-469.3687 302.0001,-469.3686\"/>\n</g>\n<!-- 139870604999032 -->\n<g id=\"node18\" class=\"node\">\n<title>139870604999032</title>\n<polygon fill=\"#add8e6\" stroke=\"#000000\" points=\"425.5,-529 357.5,-529 357.5,-495 425.5,-495 425.5,-529\"/>\n<text text-anchor=\"middle\" x=\"391.5\" y=\"-515.4\" font-family=\"Times,serif\" font-size=\"12.00\" fill=\"#000000\">conv3.bias</text>\n<text text-anchor=\"middle\" x=\"391.5\" y=\"-502.4\" font-family=\"Times,serif\" font-size=\"12.00\" fill=\"#000000\"> (32)</text>\n</g>\n<!-- 139870604999032&#45;&gt;139870604999088 -->\n<g id=\"edge17\" class=\"edge\">\n<title>139870604999032&#45;&gt;139870604999088</title>\n<path fill=\"none\" stroke=\"#000000\" d=\"M366.5777,-494.9832C352.8955,-485.641 336.0107,-474.1122 322.4799,-464.8734\"/>\n<polygon fill=\"#000000\" stroke=\"#000000\" points=\"324.372,-461.9273 314.1398,-459.1788 320.4248,-467.7082 324.372,-461.9273\"/>\n</g>\n<!-- 139870604998416 -->\n<g id=\"node19\" class=\"node\">\n<title>139870604998416</title>\n<polygon fill=\"#add8e6\" stroke=\"#000000\" points=\"445,-402 364,-402 364,-368 445,-368 445,-402\"/>\n<text text-anchor=\"middle\" x=\"404.5\" y=\"-388.4\" font-family=\"Times,serif\" font-size=\"12.00\" fill=\"#000000\">conv4.weight</text>\n<text text-anchor=\"middle\" x=\"404.5\" y=\"-375.4\" font-family=\"Times,serif\" font-size=\"12.00\" fill=\"#000000\"> (32, 32, 1, 1)</text>\n</g>\n<!-- 139870604998416&#45;&gt;139870604998472 -->\n<g id=\"edge18\" class=\"edge\">\n<title>139870604998416&#45;&gt;139870604998472</title>\n<path fill=\"none\" stroke=\"#000000\" d=\"M404.5,-367.9832C404.5,-360.1157 404.5,-350.6973 404.5,-342.4019\"/>\n<polygon fill=\"#000000\" stroke=\"#000000\" points=\"408.0001,-342.3686 404.5,-332.3687 401.0001,-342.3687 408.0001,-342.3686\"/>\n</g>\n<!-- 139870604998640 -->\n<g id=\"node20\" class=\"node\">\n<title>139870604998640</title>\n<polygon fill=\"#add8e6\" stroke=\"#000000\" points=\"531.5,-402 463.5,-402 463.5,-368 531.5,-368 531.5,-402\"/>\n<text text-anchor=\"middle\" x=\"497.5\" y=\"-388.4\" font-family=\"Times,serif\" font-size=\"12.00\" fill=\"#000000\">conv4.bias</text>\n<text text-anchor=\"middle\" x=\"497.5\" y=\"-375.4\" font-family=\"Times,serif\" font-size=\"12.00\" fill=\"#000000\"> (32)</text>\n</g>\n<!-- 139870604998640&#45;&gt;139870604998472 -->\n<g id=\"edge19\" class=\"edge\">\n<title>139870604998640&#45;&gt;139870604998472</title>\n<path fill=\"none\" stroke=\"#000000\" d=\"M472.5777,-367.9832C458.8955,-358.641 442.0107,-347.1122 428.4799,-337.8734\"/>\n<polygon fill=\"#000000\" stroke=\"#000000\" points=\"430.372,-334.9273 420.1398,-332.1788 426.4248,-340.7082 430.372,-334.9273\"/>\n</g>\n<!-- 139870604998304 -->\n<g id=\"node21\" class=\"node\">\n<title>139870604998304</title>\n<polygon fill=\"#add8e6\" stroke=\"#000000\" points=\"551,-275 470,-275 470,-241 551,-241 551,-275\"/>\n<text text-anchor=\"middle\" x=\"510.5\" y=\"-261.4\" font-family=\"Times,serif\" font-size=\"12.00\" fill=\"#000000\">conv5.weight</text>\n<text text-anchor=\"middle\" x=\"510.5\" y=\"-248.4\" font-family=\"Times,serif\" font-size=\"12.00\" fill=\"#000000\"> (32, 32, 1, 1)</text>\n</g>\n<!-- 139870604998304&#45;&gt;139870604997912 -->\n<g id=\"edge20\" class=\"edge\">\n<title>139870604998304&#45;&gt;139870604997912</title>\n<path fill=\"none\" stroke=\"#000000\" d=\"M510.5,-240.9832C510.5,-233.1157 510.5,-223.6973 510.5,-215.4019\"/>\n<polygon fill=\"#000000\" stroke=\"#000000\" points=\"514.0001,-215.3686 510.5,-205.3687 507.0001,-215.3687 514.0001,-215.3686\"/>\n</g>\n<!-- 139870604998192 -->\n<g id=\"node22\" class=\"node\">\n<title>139870604998192</title>\n<polygon fill=\"#add8e6\" stroke=\"#000000\" points=\"637.5,-275 569.5,-275 569.5,-241 637.5,-241 637.5,-275\"/>\n<text text-anchor=\"middle\" x=\"603.5\" y=\"-261.4\" font-family=\"Times,serif\" font-size=\"12.00\" fill=\"#000000\">conv5.bias</text>\n<text text-anchor=\"middle\" x=\"603.5\" y=\"-248.4\" font-family=\"Times,serif\" font-size=\"12.00\" fill=\"#000000\"> (32)</text>\n</g>\n<!-- 139870604998192&#45;&gt;139870604997912 -->\n<g id=\"edge21\" class=\"edge\">\n<title>139870604998192&#45;&gt;139870604997912</title>\n<path fill=\"none\" stroke=\"#000000\" d=\"M578.5777,-240.9832C564.8955,-231.641 548.0107,-220.1122 534.4799,-210.8734\"/>\n<polygon fill=\"#000000\" stroke=\"#000000\" points=\"536.372,-207.9273 526.1398,-205.1788 532.4248,-213.7082 536.372,-207.9273\"/>\n</g>\n<!-- 139870604997968 -->\n<g id=\"node23\" class=\"node\">\n<title>139870604997968</title>\n<polygon fill=\"#add8e6\" stroke=\"#000000\" points=\"657,-148 576,-148 576,-114 657,-114 657,-148\"/>\n<text text-anchor=\"middle\" x=\"616.5\" y=\"-134.4\" font-family=\"Times,serif\" font-size=\"12.00\" fill=\"#000000\">conv6.weight</text>\n<text text-anchor=\"middle\" x=\"616.5\" y=\"-121.4\" font-family=\"Times,serif\" font-size=\"12.00\" fill=\"#000000\"> (1, 32, 5, 5)</text>\n</g>\n<!-- 139870604997968&#45;&gt;139870604997800 -->\n<g id=\"edge22\" class=\"edge\">\n<title>139870604997968&#45;&gt;139870604997800</title>\n<path fill=\"none\" stroke=\"#000000\" d=\"M616.5,-113.9832C616.5,-106.1157 616.5,-96.6973 616.5,-88.4019\"/>\n<polygon fill=\"#000000\" stroke=\"#000000\" points=\"620.0001,-88.3686 616.5,-78.3687 613.0001,-88.3687 620.0001,-88.3686\"/>\n</g>\n<!-- 139870604998080 -->\n<g id=\"node24\" class=\"node\">\n<title>139870604998080</title>\n<polygon fill=\"#add8e6\" stroke=\"#000000\" points=\"743.5,-148 675.5,-148 675.5,-114 743.5,-114 743.5,-148\"/>\n<text text-anchor=\"middle\" x=\"709.5\" y=\"-134.4\" font-family=\"Times,serif\" font-size=\"12.00\" fill=\"#000000\">conv6.bias</text>\n<text text-anchor=\"middle\" x=\"709.5\" y=\"-121.4\" font-family=\"Times,serif\" font-size=\"12.00\" fill=\"#000000\"> (1)</text>\n</g>\n<!-- 139870604998080&#45;&gt;139870604997800 -->\n<g id=\"edge23\" class=\"edge\">\n<title>139870604998080&#45;&gt;139870604997800</title>\n<path fill=\"none\" stroke=\"#000000\" d=\"M684.5777,-113.9832C670.8955,-104.641 654.0107,-93.1122 640.4799,-83.8734\"/>\n<polygon fill=\"#000000\" stroke=\"#000000\" points=\"642.372,-80.9273 632.1398,-78.1788 638.4248,-86.7082 642.372,-80.9273\"/>\n</g>\n</g>\n</svg>\n"
          },
          "metadata": {
            "tags": []
          },
          "execution_count": 12
        }
      ]
    }
  ]
}