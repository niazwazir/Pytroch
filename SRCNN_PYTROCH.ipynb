{
  "nbformat": 4,
  "nbformat_minor": 0,
  "metadata": {
    "colab": {
      "name": "SRCNN_PYTROCH.ipynb",
      "provenance": []
    },
    "kernelspec": {
      "name": "python3",
      "display_name": "Python 3"
    },
    "accelerator": "GPU"
  },
  "cells": [
    {
      "cell_type": "code",
      "metadata": {
        "id": "wFp9xYtyfmTk",
        "colab_type": "code",
        "colab": {}
      },
      "source": [
        "import math\n",
        "from torch import nn"
      ],
      "execution_count": 0,
      "outputs": []
    },
    {
      "cell_type": "code",
      "metadata": {
        "id": "oze-NWgCgz7E",
        "colab_type": "code",
        "colab": {}
      },
      "source": [
        "class FSRCNN(nn.Module):\n",
        "    def __init__(self, scale_factor =2, num_channels=1, d=64, s=12, m=4):\n",
        "        super(FSRCNN, self).__init__()\n",
        "        self.L1 = nn.Sequential(nn.Conv2d(num_channels, d, kernel_size=3, padding=3//2),nn.PReLU(d))\n",
        "        self.L2 = nn.Sequential(nn.Conv2d(d, s, kernel_size=3,padding=3//2), nn.PReLU(s))\n",
        "        self.L3 = nn.Sequential(nn.Conv2d(s, d, kernel_size=3,padding=3//2), nn.PReLU(d))\n",
        "        self.L4 = nn.ConvTranspose2d(d, num_channels, kernel_size=9, stride=scale_factor, padding=9//2,output_padding=scale_factor-1)\n",
        "\n",
        "      \n",
        "    def forward(self, x):\n",
        "        x = self.L1(x)\n",
        "        x = self.L2(x)\n",
        "        x = self.L3(x)\n",
        "        x = self.L4(x)\n",
        "        return x"
      ],
      "execution_count": 0,
      "outputs": []
    },
    {
      "cell_type": "code",
      "metadata": {
        "id": "0Hz67jLwfoxZ",
        "colab_type": "code",
        "colab": {
          "base_uri": "https://localhost:8080/",
          "height": 278
        },
        "outputId": "bb248a60-38f7-4d3c-9ff1-067dfe8903a6"
      },
      "source": [
        "cnn = FSRCNN()\n",
        "print(cnn)  # net architecture"
      ],
      "execution_count": 3,
      "outputs": [
        {
          "output_type": "stream",
          "text": [
            "FSRCNN(\n",
            "  (L1): Sequential(\n",
            "    (0): Conv2d(1, 64, kernel_size=(3, 3), stride=(1, 1), padding=(1, 1))\n",
            "    (1): PReLU(num_parameters=64)\n",
            "  )\n",
            "  (L2): Sequential(\n",
            "    (0): Conv2d(64, 12, kernel_size=(3, 3), stride=(1, 1), padding=(1, 1))\n",
            "    (1): PReLU(num_parameters=12)\n",
            "  )\n",
            "  (L3): Sequential(\n",
            "    (0): Conv2d(12, 64, kernel_size=(3, 3), stride=(1, 1), padding=(1, 1))\n",
            "    (1): PReLU(num_parameters=64)\n",
            "  )\n",
            "  (L4): ConvTranspose2d(64, 1, kernel_size=(9, 9), stride=(2, 2), padding=(4, 4), output_padding=(1, 1))\n",
            ")\n"
          ],
          "name": "stdout"
        }
      ]
    }
  ]
}